{
 "metadata": {
  "name": "ProjectEuler31"
 },
 "nbformat": 3,
 "nbformat_minor": 0,
 "worksheets": [
  {
   "cells": [
    {
     "cell_type": "markdown",
     "metadata": {},
     "source": [
      "Project Euler 31:\n",
      "=\n",
      "Coin Sums\n",
      "-\n",
      "In England the currency is made up of pound, \u00a3, and pence, p, and there are eight coins in general circulation:\n",
      "\n",
      "1p, 2p, 5p, 10p, 20p, 50p, \u00a31 (100p) and \u00a32 (200p).\n",
      "\n",
      "It is possible to make \u00a32 in the following way:\n",
      "\n",
      "1*\u00a31 + 1*50p + 2*20p + 1*5p + 1*2p + 3*1p\n",
      "\n",
      "How many different ways can \u00a32 be made using any number of coins?"
     ]
    },
    {
     "cell_type": "code",
     "collapsed": false,
     "input": [
      "Onepence = 1\n",
      "Twopence = 2*Onepence\n",
      "Fivepence = 5*Onepence\n",
      "Tenpence = 10*Onepence\n",
      "Twentypence = 20*Onepence\n",
      "Fiftypence = 50*Onepence\n",
      "Onepound = 100*Onepence\n",
      "Twopound = 200*Onepence\n",
      "currency = [Onepence,Twopence,Fivepence,Tenpence,Twentypence,Fiftypence,Onepound,Twopound]"
     ],
     "language": "python",
     "metadata": {},
     "outputs": [],
     "prompt_number": 2
    },
    {
     "cell_type": "code",
     "collapsed": false,
     "input": [
      "total = 200\n",
      "def numberofways(money):\n",
      "    for i in currency:\n",
      "        if "
     ],
     "language": "python",
     "metadata": {},
     "outputs": [
      {
       "ename": "SyntaxError",
       "evalue": "invalid syntax (<ipython-input-3-094cc0042174>, line 4)",
       "output_type": "pyerr",
       "traceback": [
        "\u001b[0;36m  File \u001b[0;32m\"<ipython-input-3-094cc0042174>\"\u001b[0;36m, line \u001b[0;32m4\u001b[0m\n\u001b[0;31m    if\u001b[0m\n\u001b[0m       ^\u001b[0m\n\u001b[0;31mSyntaxError\u001b[0m\u001b[0;31m:\u001b[0m invalid syntax\n"
       ]
      }
     ],
     "prompt_number": 3
    },
    {
     "cell_type": "code",
     "collapsed": false,
     "input": [],
     "language": "python",
     "metadata": {},
     "outputs": []
    }
   ],
   "metadata": {}
  }
 ]
}