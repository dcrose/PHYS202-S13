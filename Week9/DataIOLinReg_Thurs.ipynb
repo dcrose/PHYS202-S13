{
 "metadata": {
  "name": "DataIOLinReg_Thurs"
 },
 "nbformat": 3,
 "nbformat_minor": 0,
 "worksheets": [
  {
   "cells": [
    {
     "cell_type": "markdown",
     "metadata": {},
     "source": [
      "Data I/O\n",
      "="
     ]
    },
    {
     "cell_type": "code",
     "collapsed": false,
     "input": [
      "DataIn = loadtxt(\"input.dat\")\n",
      "print DataIn.shape\n",
      "print DataIn"
     ],
     "language": "python",
     "metadata": {},
     "outputs": [
      {
       "output_type": "stream",
       "stream": "stdout",
       "text": [
        "(5, 3)\n",
        "[[ 0.   1.1  0.1]\n",
        " [ 2.   1.9  0.2]\n",
        " [ 4.   3.2  0.1]\n",
        " [ 6.   4.   0.3]\n",
        " [ 8.   5.9  0.3]]\n"
       ]
      }
     ],
     "prompt_number": 2
    },
    {
     "cell_type": "code",
     "collapsed": false,
     "input": [
      "print DataIn[:,2]"
     ],
     "language": "python",
     "metadata": {},
     "outputs": [
      {
       "output_type": "stream",
       "stream": "stdout",
       "text": [
        "[ 0.1  0.2  0.1  0.3  0.3]\n"
       ]
      }
     ],
     "prompt_number": 3
    },
    {
     "cell_type": "code",
     "collapsed": false,
     "input": [
      "x,y,yerr = loadtxt(\"input.dat\",unpack=True)\n",
      "print x\n",
      "print y\n",
      "print yerr"
     ],
     "language": "python",
     "metadata": {},
     "outputs": [
      {
       "output_type": "stream",
       "stream": "stdout",
       "text": [
        "[ 0.  2.  4.  6.  8.]\n",
        "[ 1.1  1.9  3.2  4.   5.9]\n",
        "[ 0.1  0.2  0.1  0.3  0.3]\n"
       ]
      }
     ],
     "prompt_number": 4
    },
    {
     "cell_type": "code",
     "collapsed": false,
     "input": [
      "x,y = loadtxt(\"input.dat\",unpack=True,usecols=[0,1])\n",
      "print x\n",
      "print y"
     ],
     "language": "python",
     "metadata": {},
     "outputs": [
      {
       "output_type": "stream",
       "stream": "stdout",
       "text": [
        "[ 0.  2.  4.  6.  8.]\n",
        "[ 1.1  1.9  3.2  4.   5.9]\n"
       ]
      }
     ],
     "prompt_number": 6
    },
    {
     "cell_type": "markdown",
     "metadata": {},
     "source": [
      "Dealing with csv files\n",
      "-"
     ]
    },
    {
     "cell_type": "code",
     "collapsed": false,
     "input": [
      "x,y = loadtxt(\"input.csv\",unpack=True,delimiter=\",\",usecols=[0,1])\n",
      "print x,y"
     ],
     "language": "python",
     "metadata": {},
     "outputs": [
      {
       "output_type": "stream",
       "stream": "stdout",
       "text": [
        "[ 0.  2.  4.  6.  8.] [ 1.1  1.9  3.2  4.   5.9]\n"
       ]
      }
     ],
     "prompt_number": 8
    },
    {
     "cell_type": "markdown",
     "metadata": {},
     "source": [
      "Writing data to a file\n",
      "-"
     ]
    },
    {
     "cell_type": "code",
     "collapsed": false,
     "input": [
      "t = array([0,1,2,3,4,5,6,7,8,9])\n",
      "v = array([0.137,0.456,0.591,0.713,0.859,0.926,1.139,1.327,1.512,1.875])\n",
      "p = 0.15+v/10.0\n",
      "print p"
     ],
     "language": "python",
     "metadata": {},
     "outputs": [
      {
       "output_type": "stream",
       "stream": "stdout",
       "text": [
        "[ 0.1637  0.1956  0.2091  0.2213  0.2359  0.2426  0.2639  0.2827  0.3012\n",
        "  0.3375]\n"
       ]
      }
     ],
     "prompt_number": 9
    },
    {
     "cell_type": "code",
     "collapsed": false,
     "input": [
      "savetxt(\"output.dat\",(t,p))"
     ],
     "language": "python",
     "metadata": {},
     "outputs": [],
     "prompt_number": 11
    },
    {
     "cell_type": "code",
     "collapsed": false,
     "input": [
      "DataOut = column_stack((t,p))\n",
      "savetxt(\"output.dat\",DataOut)"
     ],
     "language": "python",
     "metadata": {},
     "outputs": [],
     "prompt_number": 13
    },
    {
     "cell_type": "code",
     "collapsed": false,
     "input": [
      "savetxt(\"output.dat\",DataOut,fmt=(\"%3i\",\"%4.3f\"))"
     ],
     "language": "python",
     "metadata": {},
     "outputs": [],
     "prompt_number": 14
    },
    {
     "cell_type": "code",
     "collapsed": false,
     "input": [
      "f = open(\"output.dat\",\"w\")\n",
      "f.write(\"#My comment line for this file, followed by a blank line, then the data\\n\\n\")\n",
      "savetxt(f,DataOut,fmt=(\"%3i\",\"%4.3f\"))\n",
      "f.close()"
     ],
     "language": "python",
     "metadata": {},
     "outputs": [],
     "prompt_number": 15
    },
    {
     "cell_type": "markdown",
     "metadata": {},
     "source": [
      "Exercise 1\n",
      "-"
     ]
    },
    {
     "cell_type": "code",
     "collapsed": false,
     "input": [
      "Time = array([1,2,3,4,5,6,7,8,9,10])\n",
      "Pos = array([7.75,7.33,6.89,6.45,5.96,5.55,5.10,4.49,3.93,3.58])\n",
      "Poserr = array([0.02,0.03,0.03,0.04,0.05,0.06,0.08,0.11,0.14,0.17])\n",
      "\n",
      "output = column_stack((Time,Pos,Poserr))"
     ],
     "language": "python",
     "metadata": {},
     "outputs": [],
     "prompt_number": 19
    },
    {
     "cell_type": "code",
     "collapsed": false,
     "input": [
      "savetxt(\"linearData.dat\",output,fmt=(\"%3i\",\"%3.2f\",\"%3.2f\"))"
     ],
     "language": "python",
     "metadata": {},
     "outputs": [],
     "prompt_number": 20
    },
    {
     "cell_type": "code",
     "collapsed": false,
     "input": [
      "g = open(\"linearData.dat\",\"w\")\n",
      "g.write(\"#Below is mt datam with the first column being the time, the second the position, and the third the error associated with the position.\\n\\n\")\n",
      "savetxt(g,output,fmt=(\"%3i\",\"%3.2f\",\"%3.2f\"))\n",
      "g.close()"
     ],
     "language": "python",
     "metadata": {},
     "outputs": [],
     "prompt_number": 21
    },
    {
     "cell_type": "code",
     "collapsed": false,
     "input": [
      "savetxt(\"linearData.csv\",output,fmt=(\"%3i\",\"%3.2f\",\"%3.2f\"))"
     ],
     "language": "python",
     "metadata": {},
     "outputs": [],
     "prompt_number": 22
    },
    {
     "cell_type": "code",
     "collapsed": false,
     "input": [
      "h = open(\"linearData.dat\",\"w\")\n",
      "h.write(\"#Below is mt datam with the first column being the time, the second the position, and the third the error associated with the position.\\n\\n\")\n",
      "savetxt(h,output,fmt=(\"%3i\",\"%3.2f\",\"%3.2f\"))\n",
      "h.close()"
     ],
     "language": "python",
     "metadata": {},
     "outputs": [],
     "prompt_number": 23
    },
    {
     "cell_type": "markdown",
     "metadata": {},
     "source": [
      "Linear Regression\n",
      "=\n",
      "[lots of technical math stuff]\n",
      "\n",
      "Exercise 2:\n",
      "-\n",
      "###Part a)"
     ]
    },
    {
     "cell_type": "code",
     "collapsed": false,
     "input": [
      "def LinearLeastSquaresFit(x,y):\n",
      "    \"\"\"Take in arrays representing (x,y) values for a set of linearly varying data and\n",
      "    preform a linear least squares regression. Return the resulting slope and intercept\n",
      "    parameters of the best fit line with their uncertainties.\"\"\"\n",
      "    a = average\n",
      "    slope = (a(x*y)-a(x)*a(y))/(a(x**2)-(a(x))**2)\n",
      "    intercept = (a(x*x)*a(y)-a(x)*a(x*y))/(a(x**2)-(a(x))**2)\n",
      "    f = y-(slope*x+intercept)\n",
      "    n = len(x)\n",
      "    slerr = ((1/(n-2.))*a(f**2)/(a(x**2)-(a(x))**2))**.5\n",
      "    interr = ((1/(n-2.))*(a(f**2)*a(x**2))/(a(x**2)-(a(x))**2))**.5\n",
      "    \n",
      "    return slope,intercept,slerr,interr"
     ],
     "language": "python",
     "metadata": {},
     "outputs": [],
     "prompt_number": 20
    },
    {
     "cell_type": "markdown",
     "metadata": {},
     "source": [
      "###Part b)"
     ]
    },
    {
     "cell_type": "code",
     "collapsed": false,
     "input": [
      "x,y = loadtxt('linearData.dat',unpack=True, usecols=[0,1])\n",
      "print x\n",
      "print y"
     ],
     "language": "python",
     "metadata": {},
     "outputs": [
      {
       "output_type": "stream",
       "stream": "stdout",
       "text": [
        "[  1.   2.   3.   4.   5.   6.   7.   8.   9.  10.]\n",
        "[ 7.75  7.33  6.89  6.45  5.96  5.55  5.1   4.49  3.93  3.58]\n"
       ]
      }
     ],
     "prompt_number": 21
    },
    {
     "cell_type": "code",
     "collapsed": false,
     "input": [
      "slope,intercept,slerr,interr = LinearLeastSquaresFit(x,y)\n",
      "print intercept"
     ],
     "language": "python",
     "metadata": {},
     "outputs": [
      {
       "output_type": "stream",
       "stream": "stdout",
       "text": [
        "8.296\n"
       ]
      }
     ],
     "prompt_number": 22
    },
    {
     "cell_type": "code",
     "collapsed": false,
     "input": [
      "print \"Slope = \"+str(LinearLeastSquaresFit(x,y)[0])+\" \u00b1 \"+str(LinearLeastSquaresFit(x,y)[2])\n",
      "print \"Intercept = \"+str(LinearLeastSquaresFit(x,y)[1])+\" \u00b1 \"+str(LinearLeastSquaresFit(x,y)[3])\n",
      "print \"y = %.4fx + %.4f\"%(slope,intercept)"
     ],
     "language": "python",
     "metadata": {},
     "outputs": [
      {
       "output_type": "stream",
       "stream": "stdout",
       "text": [
        "Slope = -0.471454545455 \u00b1 0.00799483304215\n",
        "Intercept = 8.296 \u00b1 0.0496066344537\n",
        "y = -0.4715x + 8.2960\n"
       ]
      }
     ],
     "prompt_number": 29
    },
    {
     "cell_type": "markdown",
     "metadata": {},
     "source": [
      "###Part c)"
     ]
    },
    {
     "cell_type": "code",
     "collapsed": false,
     "input": [
      "plot(x,y,'r*',label=\"data\")\n",
      "\n",
      "f = slope*x+intercept\n",
      "\n",
      "plot(x,f,label=\"Curve-fit\")\n",
      "\n",
      "fplus = (slope+slerr)*x+(intercept+interr)\n",
      "fminus = (slope-slerr)*x+(intercept-interr)\n",
      "\n",
      "plot(x,fminus,'r--',label=\"Curve-fit + deviation\")\n",
      "plot(x,fplus,'g--',label=\"Curve-fit - deviation\")\n",
      "\n",
      "legend(loc=0)\n",
      "xlabel('Time (s)')\n",
      "ylabel('Position (m)')\n",
      "show()"
     ],
     "language": "python",
     "metadata": {},
     "outputs": [
      {
       "output_type": "display_data",
       "png": "[encoded data removed]"
      }
     ],
     "prompt_number": 25
    },
    {
     "cell_type": "markdown",
     "metadata": {},
     "source": [
      "Weighted Linear Least Squares\n",
      "=\n",
      "Exercise 3\n",
      "-\n",
      "###Part a)"
     ]
    },
    {
     "cell_type": "code",
     "collapsed": false,
     "input": [
      "def WeightedLinearLeastSquaresFit(x,y,w):\n",
      "    \"\"\"Take in arrays representing (x,y) values for a set of linearly varying data and\n",
      "    and an array of weights w. Perform a weighted linear least squares fit regression.\n",
      "    Return the resulting slope and intercept parameters of the best fit line with their\n",
      "    uncertainties.\n",
      "\n",
      "    If the weights are all equal to one, the uncertainties on the parameters are calculated\n",
      "     using the non-weighted least squares equations.\"\"\"\n",
      "    a = average\n",
      "    \n",
      "    slope = ((sum(w)*sum(w*x*y))-sum(w*x)*sum(w*y))/((sum(w)*sum(w*x*x))-(sum(w*x))**2)\n",
      "    intercept = ((sum(w*x*x)*sum(w*y))-sum(x*w)*sum(w*x*y))/((sum(w)*sum(w*x*x))-(sum(w*x))**2)\n",
      "    \n",
      "    if all(w == ones(len(w))):\n",
      "        f = y-(slope*x+intercept)\n",
      "        n = len(x)\n",
      "        slerr = ((1/(n-2.))*a(u**2)/(a(x**2)-(a(x))**2))**.5\n",
      "        interr = ((1/(n-2.))*(a(u**2)*a(x**2))/(a(x**2)-(a(x))**2))**.5\n",
      "    \n",
      "    else:\n",
      "        slerr = (sum(w)/((sum(w)*sum(w*x*x))-sum(w*x)**2))**.5\n",
      "        interr = (sum(w*x*x)/((sum(w)*sum(w*x*x))-sum(w*x)**2))**.5\n",
      "    \n",
      "    return slope,intercept,slerr,interr"
     ],
     "language": "python",
     "metadata": {},
     "outputs": [],
     "prompt_number": 27
    },
    {
     "cell_type": "markdown",
     "metadata": {},
     "source": [
      "###Part b)"
     ]
    },
    {
     "cell_type": "code",
     "collapsed": false,
     "input": [
      "x,y,u = loadtxt('linearData.dat',unpack=True, usecols=[0,1,2])\n",
      "print x\n",
      "print y\n",
      "print u"
     ],
     "language": "python",
     "metadata": {},
     "outputs": [
      {
       "output_type": "stream",
       "stream": "stdout",
       "text": [
        "[  1.   2.   3.   4.   5.   6.   7.   8.   9.  10.]\n",
        "[ 7.75  7.33  6.89  6.45  5.96  5.55  5.1   4.49  3.93  3.58]\n",
        "[ 0.02  0.03  0.03  0.04  0.05  0.06  0.08  0.11  0.14  0.17]\n"
       ]
      }
     ],
     "prompt_number": 28
    },
    {
     "cell_type": "code",
     "collapsed": false,
     "input": [
      "w = 1/(u**2)\n",
      "slope,intercept,slerr,interr = WeightedLinearLeastSquaresFit(x,y,w)\n",
      "print slope \n",
      "print intercept\n",
      "print slerr\n",
      "print interr\n",
      "print \"Slope = \"+str(WeightedLinearLeastSquaresFit(x,y,w)[0])+\" \u00b1 \"+str(WeightedLinearLeastSquaresFit(x,y,w)[2])\n",
      "print \"Intercept = \"+str(WeightedLinearLeastSquaresFit(x,y,w)[1])+\" \u00b1 \"+str(WeightedLinearLeastSquaresFit(x,y,w)[3])\n",
      "print \"y = %.4fx + %.4f\"%(slope,intercept)"
     ],
     "language": "python",
     "metadata": {},
     "outputs": [
      {
       "output_type": "stream",
       "stream": "stdout",
       "text": [
        "-0.451023983487\n",
        "8.2200718179\n",
        "0.00657587085879\n",
        "0.0214377652083\n",
        "Slope = -0.451023983487 \u00b1 0.00657587085879\n",
        "Intercept = 8.2200718179 \u00b1 0.0214377652083\n",
        "y = -0.4510x + 8.2201\n"
       ]
      }
     ],
     "prompt_number": 30
    },
    {
     "cell_type": "code",
     "collapsed": false,
     "input": [
      "errorbar(x,y,u,fmt='b.',label=\"Data\")\n",
      "\n",
      "ffit = slope*x+intercept\n",
      "\n",
      "plot(x,ffit,'r--',label=\"WSLQ\")\n",
      "plot(x,f,\"b--\",label=\"LSQ\")\n",
      "\n",
      "legend(loc=0)\n",
      "xlabel('Time (s)')\n",
      "ylabel('Position (m)')\n",
      "\n",
      "show()"
     ],
     "language": "python",
     "metadata": {},
     "outputs": [
      {
       "output_type": "display_data",
       "png": "[encoded data removed]"
      }
     ],
     "prompt_number": 32
    },
    {
     "cell_type": "code",
     "collapsed": false,
     "input": [],
     "language": "python",
     "metadata": {},
     "outputs": []
    }
   ],
   "metadata": {}
  }
 ]
}