{
 "metadata": {
  "name": "ProjectEulerProblem19"
 },
 "nbformat": 3,
 "nbformat_minor": 0,
 "worksheets": [
  {
   "cells": [
    {
     "cell_type": "markdown",
     "metadata": {},
     "source": [
      "Project Euler Problem 19\n",
      "-"
     ]
    },
    {
     "cell_type": "markdown",
     "metadata": {},
     "source": [
      "You are given the following information, but you may prefer to do some research for yourself.\n",
      "\n",
      "####1 Jan 1900 was a Monday.\n",
      "\n",
      "####Thirty days has September,\n",
      "\n",
      "####April, June and November.\n",
      "\n",
      "####All the rest have thirty-one,\n",
      "\n",
      "####Saving February alone,\n",
      "\n",
      "####Which has twenty-eight, rain or shine.\n",
      "\n",
      "####And on leap years, twenty-nine.\n",
      "\n",
      "A leap year occurs on any year evenly divisible by 4, but not on a century unless it is divisible by 400.\n",
      "\n",
      "How many Sundays fell on the first of the month during the twentieth century (1 Jan 1901 to 31 Dec 2000)?"
     ]
    },
    {
     "cell_type": "code",
     "collapsed": false,
     "input": [
      "week = array([\"Monday\",\"Tuesday\",\"Wednesday\",\"Thursday\",\"Friday\",\"Saturday\",\"Sunday\"]) #Doesn't do anything in the code, meant for visualization of the problem.\n",
      "something = 0\n",
      "number_of_sundays = 0\n",
      "leap_year_counter = 0\n",
      "for n in range(0,365):\n",
      "    something += 1\n",
      "    if something > 6:\n",
      "        something = 0 # Recycles the count of the days. \n",
      "\n",
      "print something # Starting with Monday = 0, this should return 1, or Tuesday.\n",
      "\n",
      "for h in range(1901,2001): #this allows us to set the number of years we need. Says that if the year is divisible by 4, it is a leap year. \n",
      "    \n",
      "    if h%4 == 0:\n",
      "        g = 366\n",
      "        leap_year_counter = 1 # Allows for us to add 1 to the number of days if it is a leap year.\n",
      "    \n",
      "    else:\n",
      "        g = 365\n",
      "        leap_year_counter = 0\n",
      "    \n",
      "    for i in range(0,g): # Initializes for each day in the year (variable).\n",
      "        \n",
      "        if i == 0 and something == 6: #JANUARY\n",
      "            number_of_sundays += 1\n",
      "        \n",
      "        elif i == 31 and something == 6: #FEBRUARY\n",
      "            number_of_sundays += 1\n",
      "        \n",
      "        elif i == 59 + leap_year_counter and something == 6: #MARCH, also adds the leap year extra day in February if it is a leap year. \n",
      "            number_of_sundays += 1\n",
      "        \n",
      "        elif i == 90 + leap_year_counter and something == 6: #APRIL\n",
      "            number_of_sundays += 1\n",
      "        \n",
      "        elif i == 120 + leap_year_counter and something == 6: #MAY\n",
      "            number_of_sundays += 1\n",
      "        \n",
      "        elif i == 151 + leap_year_counter and something == 6: #JUNE\n",
      "            number_of_sundays += 1\n",
      "        \n",
      "        elif i == 181 + leap_year_counter and something == 6: #JULY\n",
      "            number_of_sundays += 1\n",
      "        \n",
      "        elif i == 212 + leap_year_counter and something == 6: #AUGUST\n",
      "            number_of_sundays += 1\n",
      "        \n",
      "        elif i == 243 + leap_year_counter and something == 6: #SEPTEMBER\n",
      "            number_of_sundays += 1\n",
      "        \n",
      "        elif i == 273 + leap_year_counter and something == 6: #OCTOBER\n",
      "            number_of_sundays += 1\n",
      "        \n",
      "        elif i == 304 + leap_year_counter and something == 6: #NOVEMBER\n",
      "            number_of_sundays += 1\n",
      "        \n",
      "        elif i == 334 + leap_year_counter and something == 6: #DECEMBER\n",
      "            number_of_sundays += 1\n",
      "        \n",
      "        something += 1\n",
      "        if something > 6:\n",
      "            something = 0\n",
      "\n",
      "print number_of_sundays\n",
      "        "
     ],
     "language": "python",
     "metadata": {},
     "outputs": [
      {
       "output_type": "stream",
       "stream": "stdout",
       "text": [
        "1\n",
        "171\n"
       ]
      }
     ],
     "prompt_number": 10
    },
    {
     "cell_type": "code",
     "collapsed": false,
     "input": [],
     "language": "python",
     "metadata": {},
     "outputs": []
    }
   ],
   "metadata": {}
  }
 ]
}