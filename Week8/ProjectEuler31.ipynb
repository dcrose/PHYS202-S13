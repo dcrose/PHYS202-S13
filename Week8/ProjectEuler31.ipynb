{
 "metadata": {
  "name": "ProjectEuler31"
 },
 "nbformat": 3,
 "nbformat_minor": 0,
 "worksheets": [
  {
   "cells": [
    {
     "cell_type": "markdown",
     "metadata": {},
     "source": [
      "Project Euler 31:\n",
      "=\n",
      "Coin Sums\n",
      "-\n",
      "In England the currency is made up of pound, \u00a3, and pence, p, and there are eight coins in general circulation:\n",
      "\n",
      "1p, 2p, 5p, 10p, 20p, 50p, \u00a31 (100p) and \u00a32 (200p).\n",
      "\n",
      "It is possible to make \u00a32 in the following way:\n",
      "\n",
      "1*\u00a31 + 1*50p + 2*20p + 1*5p + 1*2p + 3*1p\n",
      "\n",
      "How many different ways can \u00a32 be made using any number of coins?"
     ]
    },
    {
     "cell_type": "code",
     "collapsed": false,
     "input": [
      "Onepence = 1\n",
      "Twopence = 2*Onepence\n",
      "Fivepence = 5*Onepence\n",
      "Tenpence = 10*Onepence\n",
      "Twentypence = 20*Onepence\n",
      "Fiftypence = 50*Onepence\n",
      "Onepound = 100*Onepence\n",
      "Twopound = 200*Onepence"
     ],
     "language": "python",
     "metadata": {},
     "outputs": [],
     "prompt_number": 8
    },
    {
     "cell_type": "code",
     "collapsed": false,
     "input": [
      "def NumberOfWays(total):\n",
      "    currency = [Onepence,Twopence,Fivepence,Tenpence,Twentypence,Fiftypence,Onepound,Twopound]\n",
      "    Ways = [1]+[0]*total\n",
      "    for coin in currency:\n",
      "        for i in range(coin,total+1):\n",
      "            Ways[i] += Ways[i-coin]\n",
      "\n",
      "    return \"The answer is: \" + str(ways[total])"
     ],
     "language": "python",
     "metadata": {},
     "outputs": [],
     "prompt_number": 24
    },
    {
     "cell_type": "code",
     "collapsed": false,
     "input": [
      "print NumberOfWays(200)"
     ],
     "language": "python",
     "metadata": {},
     "outputs": [
      {
       "output_type": "stream",
       "stream": "stdout",
       "text": [
        "The answer is: 73682\n"
       ]
      }
     ],
     "prompt_number": 29
    },
    {
     "cell_type": "markdown",
     "metadata": {},
     "source": [
      "Test Case:\n",
      "-"
     ]
    },
    {
     "cell_type": "code",
     "collapsed": false,
     "input": [
      "#What if the goal is just a pound?\n",
      "print NumberOfWays(100)"
     ],
     "language": "python",
     "metadata": {},
     "outputs": [
      {
       "output_type": "stream",
       "stream": "stdout",
       "text": [
        "The answer is: 4563\n"
       ]
      }
     ],
     "prompt_number": 30
    },
    {
     "cell_type": "code",
     "collapsed": false,
     "input": [
      "#Or 90 pence?\n",
      "print NumberOfWays(90)"
     ],
     "language": "python",
     "metadata": {},
     "outputs": [
      {
       "output_type": "stream",
       "stream": "stdout",
       "text": [
        "The answer is: 3121\n"
       ]
      }
     ],
     "prompt_number": 33
    },
    {
     "cell_type": "code",
     "collapsed": false,
     "input": [],
     "language": "python",
     "metadata": {},
     "outputs": []
    }
   ],
   "metadata": {}
  }
 ]
}