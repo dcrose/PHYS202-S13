{
 "metadata": {
  "name": "NumPyEx1"
 },
 "nbformat": 3,
 "nbformat_minor": 0,
 "worksheets": [
  {
   "cells": [
    {
     "cell_type": "code",
     "collapsed": false,
     "input": [
      "import numpy as np"
     ],
     "language": "python",
     "metadata": {},
     "outputs": [],
     "prompt_number": 1
    },
    {
     "cell_type": "code",
     "collapsed": false,
     "input": [
      "a = np.ones((4,4))\n",
      "a[2,3] = 2\n",
      "a[3,1] = 6\n",
      "print a"
     ],
     "language": "python",
     "metadata": {},
     "outputs": [
      {
       "output_type": "stream",
       "stream": "stdout",
       "text": [
        "[[ 1.  1.  1.  1.]\n",
        " [ 1.  1.  1.  1.]\n",
        " [ 1.  1.  1.  2.]\n",
        " [ 1.  6.  1.  1.]]\n"
       ]
      }
     ],
     "prompt_number": 9
    },
    {
     "cell_type": "code",
     "collapsed": false,
     "input": [
      "b = np.diag(np.array([2,3,4,5,6]))\n",
      "print b"
     ],
     "language": "python",
     "metadata": {},
     "outputs": [
      {
       "output_type": "stream",
       "stream": "stdout",
       "text": [
        "[[2 0 0 0 0]\n",
        " [0 3 0 0 0]\n",
        " [0 0 4 0 0]\n",
        " [0 0 0 5 0]\n",
        " [0 0 0 0 6]]\n"
       ]
      }
     ],
     "prompt_number": 37
    },
    {
     "cell_type": "code",
     "collapsed": false,
     "input": [],
     "language": "python",
     "metadata": {},
     "outputs": []
    }
   ],
   "metadata": {}
  }
 ]
}