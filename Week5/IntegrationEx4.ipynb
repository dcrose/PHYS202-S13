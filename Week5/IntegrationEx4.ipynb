{
 "metadata": {
  "name": "IntegrationEx4"
 },
 "nbformat": 3,
 "nbformat_minor": 0,
 "worksheets": [
  {
   "cells": [
    {
     "cell_type": "markdown",
     "metadata": {},
     "source": [
      "Question 1\n",
      "=\n",
      "Consider the following integral:\n",
      "\n",
      "$E(x) = \\int_0^x e^{-t^2}dt$\n",
      "\n",
      "Part a)\n",
      "-\n",
      "Write code to evaluate the integral from 0 to 3 in steps of 0.1."
     ]
    },
    {
     "cell_type": "code",
     "collapsed": false,
     "input": [
      "def TrapIntegrate1(N,x):\n",
      "    E = lambda x: e**(-(x)**2) # Here is our function. We shall use the trapezoid rule in this case. \n",
      "    xmin = 0.0                    # It goes from 0 to the upper limit of integration.\n",
      "    xmax = x\n",
      "    #N = 30                      #30 steps.\n",
      "    h = (xmax-xmin)/N\n",
      "    s = 0.5*E(xmin) + 0.5*E(xmax)\n",
      "    for k in range(1,N):\n",
      "        s += E(xmin+k*h)\n",
      "    return (h*s)\n",
      "\n",
      "TrapIntegrate1(30,3.) # Here is the upper limit and number of steps."
     ],
     "language": "python",
     "metadata": {},
     "outputs": [
      {
       "output_type": "pyout",
       "prompt_number": 3,
       "text": [
        "0.8862067342802121"
       ]
      }
     ],
     "prompt_number": 3
    },
    {
     "cell_type": "markdown",
     "metadata": {},
     "source": [
      "Part b)\n",
      "-\n",
      "Make a graph of the function."
     ]
    },
    {
     "cell_type": "code",
     "collapsed": false,
     "input": [
      "x_range = arange(0.,3.,0.1)\n",
      "plot(x_range,TrapIntegrate1(30,x_range),lw=3, label=\"$\\int_0^3 e^{-t^2}$\")\n",
      "title(\"Integral of f(x) vs. x\",fontsize=20)\n",
      "xlabel(\"x\",fontsize=15)\n",
      "ylabel(\"$\\int_0^3 e^{-t^2}$\",fontsize=15)\n",
      "legend(loc=\"lower right\")\n",
      "show()\n"
     ],
     "language": "python",
     "metadata": {},
     "outputs": [
      {
       "output_type": "display_data",
       "png": "[encoded data removed]"
      }
     ],
     "prompt_number": 4
    },
    {
     "cell_type": "markdown",
     "metadata": {},
     "source": [
      "Question 2\n",
      "=\n",
      "Consider a particle in a one-dimensional box of width $L$. The probability of finding the particle between a and b is given by:\n",
      "\n",
      "##$P(a,b) = \\int_a^b |\\psi(x)|^2dx$\n",
      "\n",
      "where $\\psi(x)$ is the wave function.\n",
      "\n",
      "Part a)\n",
      "-\n",
      "What is the probability of finding the particle between L/3 and L/2 for the ground state and for the first excited state? Perform the integral using both trapz and quad with an accuracy of 6 sig figs. How many bins did you need to use for trapz?"
     ]
    },
    {
     "cell_type": "code",
     "collapsed": false,
     "input": [
      "def TrapPsiSquared(N,L,n,xmax):\n",
      "    P = lambda x: (((2./L)**(1./2.))*sin((n*pi*x)/L))**2. # Here is our function. We shall use the trapezoid rule in this case. \n",
      "    a = L/3.                    # The limits are from L/3 to L/2. \n",
      "    b = xmax\n",
      "    #N = 30                      #30 steps.\n",
      "    h = (b-a)/N\n",
      "    s = 0.5*P(a) + 0.5*P(b)\n",
      "    for k in range(1,N):\n",
      "        s += P(a+k*h)\n",
      "    return (h*s)\n",
      "\n",
      "TrapPsiSquared(100000,1.,1.,L/2.) # Ground state, n = 1"
     ],
     "language": "python",
     "metadata": {},
     "outputs": [
      {
       "output_type": "pyout",
       "prompt_number": 36,
       "text": [
        "0.30449889052085205"
       ]
      }
     ],
     "prompt_number": 36
    },
    {
     "cell_type": "code",
     "collapsed": false,
     "input": [
      "TrapPsiSquared(100000,1.,2.,L/2.) # First excited state, n = 2"
     ],
     "language": "python",
     "metadata": {},
     "outputs": [
      {
       "output_type": "pyout",
       "prompt_number": 37,
       "text": [
        "0.09775055474146363"
       ]
      }
     ],
     "prompt_number": 37
    },
    {
     "cell_type": "code",
     "collapsed": false,
     "input": [
      "import scipy\n",
      "import scipy.integrate as integrate\n",
      "L = 1.\n",
      "n = 1.\n",
      "PsiSquared = lambda x: (((2./L)**(1./2.))*sin((n*pi*x)/L))**2 # Ground state, n = 1\n",
      "I = integrate.quad(PsiSquared,L/3.,L/2.)\n",
      "print I"
     ],
     "language": "python",
     "metadata": {},
     "outputs": [
      {
       "output_type": "stream",
       "stream": "stdout",
       "text": [
        "(0.3044988905221147, 3.380616792304666e-15)\n"
       ]
      }
     ],
     "prompt_number": 17
    },
    {
     "cell_type": "code",
     "collapsed": false,
     "input": [
      "L = 1.\n",
      "n = 2.\n",
      "PsiSquared = lambda x: (((2./L)**(1./2.))*sin((n*pi*x)/L))**2 # First excited state, n = 2\n",
      "I = integrate.quad(PsiSquared,L/3.,L/2.)\n",
      "print I"
     ],
     "language": "python",
     "metadata": {},
     "outputs": [
      {
       "output_type": "stream",
       "stream": "stdout",
       "text": [
        "(0.09775055473894276, 1.0852491654105595e-15)\n"
       ]
      }
     ],
     "prompt_number": 18
    },
    {
     "cell_type": "markdown",
     "metadata": {},
     "source": [
      "Part b)\n",
      "-"
     ]
    },
    {
     "cell_type": "code",
     "collapsed": false,
     "input": [
      "L = 1.\n",
      "n = 1.\n",
      "x_range = arange(L/3.,L/2.,0.0001)\n",
      "Psi_Squared = (((2./L)**(1./2.))*sin((n*pi*(x_range))/L))**2\n",
      "plot(x_range,Psi_Squared,lw=3,label=\"Psi Squared vs. x\")\n",
      "title(\"Psi Squared vs. x\",fontsize=20)\n",
      "xlabel(\"x (m)\",fontsize=15)\n",
      "ylabel(\"$|\\psi(x)|^2$\",fontsize=20)\n",
      "legend(loc=\"lower right\")\n",
      "show()\n"
     ],
     "language": "python",
     "metadata": {},
     "outputs": [
      {
       "output_type": "display_data",
       "png": "[encoded data removed]"
      }
     ],
     "prompt_number": 64
    },
    {
     "cell_type": "code",
     "collapsed": false,
     "input": [],
     "language": "python",
     "metadata": {},
     "outputs": [],
     "prompt_number": 43
    },
    {
     "cell_type": "markdown",
     "metadata": {},
     "source": [
      "Question 3\n",
      "=\n",
      "In natural units (where all the constants are 1), the wavefunction of the n-th energy level of the one-dimensional quantum harmonic oscillator - i.e., a spinless point particle in a quadratic potential well - is given by:\n",
      "\n",
      "##$\\psi_n(x) = \\frac{1}{\\sqrt{2^nn!\\sqrt{pi}}}e^{\\frac{-x^2}{2}}H_n(x)$\n",
      "\n",
      "for n = 0,...,\u221e, where $H_n(x)$ is the n-th Hermite polynomial:\n",
      "\n",
      "$H_{n+1}(x) = 2xH_n(x) - 2nH_{n-1}(x)$\n",
      "\n",
      "and the first two Hermite polynomials are $H_0(x) = 1$ and $H_1(x) = 2x$."
     ]
    },
    {
     "cell_type": "markdown",
     "metadata": {},
     "source": [
      "Part a)\n",
      "-\n",
      "Write a user-defined function H(n,x) that calculates Hn(x) for given x and any integer n \u2265 0. Use your function to make a plot that shows the wave functions for n=0, 1, 2, and 3, all on the same graph, in the range x = -4 to x = 4. Hint: There is a function factorial in the math package that calculates the factorial of an integer."
     ]
    },
    {
     "cell_type": "code",
     "collapsed": false,
     "input": [
      "x = arange(-4.,4.)\n",
      "H_0 = 1.\n",
      "H_1 = 2.*x\n",
      "def Hermite(n,x):\n",
      "    H_nplus1 = 2.*x*H_1 - 2*n*H_0"
     ],
     "language": "python",
     "metadata": {},
     "outputs": [],
     "prompt_number": 74
    },
    {
     "cell_type": "code",
     "collapsed": false,
     "input": [
      "from sympy import *\n",
      "import numpy as np\n",
      "x = Symbol(\"x\")\n",
      "y = e**((-x**2.)/2.)\n",
      "yprime = y.diff(x)\n",
      "yprime"
     ],
     "language": "python",
     "metadata": {},
     "outputs": [
      {
       "output_type": "pyout",
       "prompt_number": 80,
       "text": [
        "-1.0*2.71828182845905**(-0.5*x**2.0)*x**2.0/x"
       ]
      }
     ],
     "prompt_number": 80
    },
    {
     "cell_type": "code",
     "collapsed": false,
     "input": [
      "def Hermite(n,x):\n",
      "    x = Symbol(\"x\")\n",
      "    y = e**((-x**2.)/2.)\n",
      "    yprime = y.diff(x)\n",
      "    He = lambda x: ((-1.)**n)*(e**((x**2.)/2.))*yprime\n",
      "    H = lambda x: (2.**(n/2.))*He*(sqrt(2.)*x)\n",
      "    return H(x)\n",
      "Hermite(1.,arange(-4.,4.))"
     ],
     "language": "python",
     "metadata": {},
     "outputs": [
      {
       "ename": "TypeError",
       "evalue": "unsupported operand type(s) for *: 'float' and 'function'",
       "output_type": "pyerr",
       "traceback": [
        "\u001b[0;31m---------------------------------------------------------------------------\u001b[0m\n\u001b[0;31mTypeError\u001b[0m                                 Traceback (most recent call last)",
        "\u001b[0;32m<ipython-input-85-555663680cbb>\u001b[0m in \u001b[0;36m<module>\u001b[0;34m()\u001b[0m\n\u001b[1;32m      6\u001b[0m     \u001b[0mH\u001b[0m \u001b[0;34m=\u001b[0m \u001b[0;32mlambda\u001b[0m \u001b[0mx\u001b[0m\u001b[0;34m:\u001b[0m \u001b[0;34m(\u001b[0m\u001b[0;36m2.\u001b[0m\u001b[0;34m**\u001b[0m\u001b[0;34m(\u001b[0m\u001b[0mn\u001b[0m\u001b[0;34m/\u001b[0m\u001b[0;36m2.\u001b[0m\u001b[0;34m)\u001b[0m\u001b[0;34m)\u001b[0m\u001b[0;34m*\u001b[0m\u001b[0mHe\u001b[0m\u001b[0;34m*\u001b[0m\u001b[0;34m(\u001b[0m\u001b[0msqrt\u001b[0m\u001b[0;34m(\u001b[0m\u001b[0;36m2.\u001b[0m\u001b[0;34m)\u001b[0m\u001b[0;34m*\u001b[0m\u001b[0mx\u001b[0m\u001b[0;34m)\u001b[0m\u001b[0;34m\u001b[0m\u001b[0m\n\u001b[1;32m      7\u001b[0m     \u001b[0;32mreturn\u001b[0m \u001b[0mH\u001b[0m\u001b[0;34m(\u001b[0m\u001b[0mx\u001b[0m\u001b[0;34m)\u001b[0m\u001b[0;34m\u001b[0m\u001b[0m\n\u001b[0;32m----> 8\u001b[0;31m \u001b[0mHermite\u001b[0m\u001b[0;34m(\u001b[0m\u001b[0;36m1.\u001b[0m\u001b[0;34m,\u001b[0m\u001b[0marange\u001b[0m\u001b[0;34m(\u001b[0m\u001b[0;34m-\u001b[0m\u001b[0;36m4.\u001b[0m\u001b[0;34m,\u001b[0m\u001b[0;36m4.\u001b[0m\u001b[0;34m)\u001b[0m\u001b[0;34m)\u001b[0m\u001b[0;34m\u001b[0m\u001b[0m\n\u001b[0m",
        "\u001b[0;32m<ipython-input-85-555663680cbb>\u001b[0m in \u001b[0;36mHermite\u001b[0;34m(n, x)\u001b[0m\n\u001b[1;32m      5\u001b[0m     \u001b[0mHe\u001b[0m \u001b[0;34m=\u001b[0m \u001b[0;32mlambda\u001b[0m \u001b[0mx\u001b[0m\u001b[0;34m:\u001b[0m \u001b[0;34m(\u001b[0m\u001b[0;34m(\u001b[0m\u001b[0;34m-\u001b[0m\u001b[0;36m1.\u001b[0m\u001b[0;34m)\u001b[0m\u001b[0;34m**\u001b[0m\u001b[0mn\u001b[0m\u001b[0;34m)\u001b[0m\u001b[0;34m*\u001b[0m\u001b[0;34m(\u001b[0m\u001b[0me\u001b[0m\u001b[0;34m**\u001b[0m\u001b[0;34m(\u001b[0m\u001b[0;34m(\u001b[0m\u001b[0mx\u001b[0m\u001b[0;34m**\u001b[0m\u001b[0;36m2.\u001b[0m\u001b[0;34m)\u001b[0m\u001b[0;34m/\u001b[0m\u001b[0;36m2.\u001b[0m\u001b[0;34m)\u001b[0m\u001b[0;34m)\u001b[0m\u001b[0;34m*\u001b[0m\u001b[0myprime\u001b[0m\u001b[0;34m\u001b[0m\u001b[0m\n\u001b[1;32m      6\u001b[0m     \u001b[0mH\u001b[0m \u001b[0;34m=\u001b[0m \u001b[0;32mlambda\u001b[0m \u001b[0mx\u001b[0m\u001b[0;34m:\u001b[0m \u001b[0;34m(\u001b[0m\u001b[0;36m2.\u001b[0m\u001b[0;34m**\u001b[0m\u001b[0;34m(\u001b[0m\u001b[0mn\u001b[0m\u001b[0;34m/\u001b[0m\u001b[0;36m2.\u001b[0m\u001b[0;34m)\u001b[0m\u001b[0;34m)\u001b[0m\u001b[0;34m*\u001b[0m\u001b[0mHe\u001b[0m\u001b[0;34m*\u001b[0m\u001b[0;34m(\u001b[0m\u001b[0msqrt\u001b[0m\u001b[0;34m(\u001b[0m\u001b[0;36m2.\u001b[0m\u001b[0;34m)\u001b[0m\u001b[0;34m*\u001b[0m\u001b[0mx\u001b[0m\u001b[0;34m)\u001b[0m\u001b[0;34m\u001b[0m\u001b[0m\n\u001b[0;32m----> 7\u001b[0;31m     \u001b[0;32mreturn\u001b[0m \u001b[0mH\u001b[0m\u001b[0;34m(\u001b[0m\u001b[0mx\u001b[0m\u001b[0;34m)\u001b[0m\u001b[0;34m\u001b[0m\u001b[0m\n\u001b[0m\u001b[1;32m      8\u001b[0m \u001b[0mHermite\u001b[0m\u001b[0;34m(\u001b[0m\u001b[0;36m1.\u001b[0m\u001b[0;34m,\u001b[0m\u001b[0marange\u001b[0m\u001b[0;34m(\u001b[0m\u001b[0;34m-\u001b[0m\u001b[0;36m4.\u001b[0m\u001b[0;34m,\u001b[0m\u001b[0;36m4.\u001b[0m\u001b[0;34m)\u001b[0m\u001b[0;34m)\u001b[0m\u001b[0;34m\u001b[0m\u001b[0m\n",
        "\u001b[0;32m<ipython-input-85-555663680cbb>\u001b[0m in \u001b[0;36m<lambda>\u001b[0;34m(x)\u001b[0m\n\u001b[1;32m      4\u001b[0m     \u001b[0myprime\u001b[0m \u001b[0;34m=\u001b[0m \u001b[0my\u001b[0m\u001b[0;34m.\u001b[0m\u001b[0mdiff\u001b[0m\u001b[0;34m(\u001b[0m\u001b[0mx\u001b[0m\u001b[0;34m)\u001b[0m\u001b[0;34m\u001b[0m\u001b[0m\n\u001b[1;32m      5\u001b[0m     \u001b[0mHe\u001b[0m \u001b[0;34m=\u001b[0m \u001b[0;32mlambda\u001b[0m \u001b[0mx\u001b[0m\u001b[0;34m:\u001b[0m \u001b[0;34m(\u001b[0m\u001b[0;34m(\u001b[0m\u001b[0;34m-\u001b[0m\u001b[0;36m1.\u001b[0m\u001b[0;34m)\u001b[0m\u001b[0;34m**\u001b[0m\u001b[0mn\u001b[0m\u001b[0;34m)\u001b[0m\u001b[0;34m*\u001b[0m\u001b[0;34m(\u001b[0m\u001b[0me\u001b[0m\u001b[0;34m**\u001b[0m\u001b[0;34m(\u001b[0m\u001b[0;34m(\u001b[0m\u001b[0mx\u001b[0m\u001b[0;34m**\u001b[0m\u001b[0;36m2.\u001b[0m\u001b[0;34m)\u001b[0m\u001b[0;34m/\u001b[0m\u001b[0;36m2.\u001b[0m\u001b[0;34m)\u001b[0m\u001b[0;34m)\u001b[0m\u001b[0;34m*\u001b[0m\u001b[0myprime\u001b[0m\u001b[0;34m\u001b[0m\u001b[0m\n\u001b[0;32m----> 6\u001b[0;31m     \u001b[0mH\u001b[0m \u001b[0;34m=\u001b[0m \u001b[0;32mlambda\u001b[0m \u001b[0mx\u001b[0m\u001b[0;34m:\u001b[0m \u001b[0;34m(\u001b[0m\u001b[0;36m2.\u001b[0m\u001b[0;34m**\u001b[0m\u001b[0;34m(\u001b[0m\u001b[0mn\u001b[0m\u001b[0;34m/\u001b[0m\u001b[0;36m2.\u001b[0m\u001b[0;34m)\u001b[0m\u001b[0;34m)\u001b[0m\u001b[0;34m*\u001b[0m\u001b[0mHe\u001b[0m\u001b[0;34m*\u001b[0m\u001b[0;34m(\u001b[0m\u001b[0msqrt\u001b[0m\u001b[0;34m(\u001b[0m\u001b[0;36m2.\u001b[0m\u001b[0;34m)\u001b[0m\u001b[0;34m*\u001b[0m\u001b[0mx\u001b[0m\u001b[0;34m)\u001b[0m\u001b[0;34m\u001b[0m\u001b[0m\n\u001b[0m\u001b[1;32m      7\u001b[0m     \u001b[0;32mreturn\u001b[0m \u001b[0mH\u001b[0m\u001b[0;34m(\u001b[0m\u001b[0mx\u001b[0m\u001b[0;34m)\u001b[0m\u001b[0;34m\u001b[0m\u001b[0m\n\u001b[1;32m      8\u001b[0m \u001b[0mHermite\u001b[0m\u001b[0;34m(\u001b[0m\u001b[0;36m1.\u001b[0m\u001b[0;34m,\u001b[0m\u001b[0marange\u001b[0m\u001b[0;34m(\u001b[0m\u001b[0;34m-\u001b[0m\u001b[0;36m4.\u001b[0m\u001b[0;34m,\u001b[0m\u001b[0;36m4.\u001b[0m\u001b[0;34m)\u001b[0m\u001b[0;34m)\u001b[0m\u001b[0;34m\u001b[0m\u001b[0m\n",
        "\u001b[0;31mTypeError\u001b[0m: unsupported operand type(s) for *: 'float' and 'function'"
       ]
      }
     ],
     "prompt_number": 85
    },
    {
     "cell_type": "code",
     "collapsed": false,
     "input": [],
     "language": "python",
     "metadata": {},
     "outputs": []
    }
   ],
   "metadata": {}
  }
 ]
}