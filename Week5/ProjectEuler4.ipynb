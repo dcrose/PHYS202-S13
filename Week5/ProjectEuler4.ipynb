{
 "metadata": {
  "name": "ProjectEuler4"
 },
 "nbformat": 3,
 "nbformat_minor": 0,
 "worksheets": [
  {
   "cells": [
    {
     "cell_type": "markdown",
     "metadata": {},
     "source": [
      "Project Euler Problem 4\n",
      "=\n",
      "A palindromic number reads the same both ways. The largest palindrome made from the product of two 2-digit numbers is 9009 = 91 99.\n",
      "\n",
      "Find the largest palindrome made from the product of two 3-digit numbers."
     ]
    },
    {
     "cell_type": "code",
     "collapsed": false,
     "input": [
      "def palindromic(min1,max1):\n",
      "    total = 0                              # Set our initial total.\n",
      "    for n in xrange(min1,max1,1):          # Use the xrange function to not create a list, making it easier to call numbers. Overall code is faster.\n",
      "        for i in xrange(min1,n,1):         # And again\n",
      "            mult = n*i                     # Multiplies the two numbers.\n",
      "            if mult > total:               # Calls for the largest of the multiples, and for the next loops, if the multiple is greater than the first palindrome,\n",
      "                string = str(n*i)          # Make it a string\n",
      "                if string == string[::-1]: # If the string is the same forwards and backwards, then the output is the multiple.\n",
      "                    total = n*i            # And set it to the total. Rinse and repeat.\n",
      "    return total\n",
      "palindromic(10,100)                        # Go from 10 to 100, as it is exclusive. 10 to 99 will not iclude 99."
     ],
     "language": "python",
     "metadata": {},
     "outputs": [
      {
       "output_type": "pyout",
       "prompt_number": 52,
       "text": [
        "9009"
       ]
      }
     ],
     "prompt_number": 52
    },
    {
     "cell_type": "code",
     "collapsed": false,
     "input": [
      "palindromic(100,1000)"
     ],
     "language": "python",
     "metadata": {},
     "outputs": [
      {
       "output_type": "pyout",
       "prompt_number": 38,
       "text": [
        "906609"
       ]
      }
     ],
     "prompt_number": 38
    },
    {
     "cell_type": "code",
     "collapsed": false,
     "input": [
      "help(xrange)"
     ],
     "language": "python",
     "metadata": {},
     "outputs": [
      {
       "output_type": "stream",
       "stream": "stdout",
       "text": [
        "Help on class xrange in module __builtin__:\n",
        "\n",
        "class xrange(object)\n",
        " |  xrange([start,] stop[, step]) -> xrange object\n",
        " |  \n",
        " |  Like range(), but instead of returning a list, returns an object that\n",
        " |  generates the numbers in the range on demand.  For looping, this is \n",
        " |  slightly faster than range() and more memory efficient.\n",
        " |  \n",
        " |  Methods defined here:\n",
        " |  \n",
        " |  __getattribute__(...)\n",
        " |      x.__getattribute__('name') <==> x.name\n",
        " |  \n",
        " |  __getitem__(...)\n",
        " |      x.__getitem__(y) <==> x[y]\n",
        " |  \n",
        " |  __iter__(...)\n",
        " |      x.__iter__() <==> iter(x)\n",
        " |  \n",
        " |  __len__(...)\n",
        " |      x.__len__() <==> len(x)\n",
        " |  \n",
        " |  __reduce__(...)\n",
        " |  \n",
        " |  __repr__(...)\n",
        " |      x.__repr__() <==> repr(x)\n",
        " |  \n",
        " |  __reversed__(...)\n",
        " |      Returns a reverse iterator.\n",
        " |  \n",
        " |  ----------------------------------------------------------------------\n",
        " |  Data and other attributes defined here:\n",
        " |  \n",
        " |  __new__ = <built-in method __new__ of type object>\n",
        " |      T.__new__(S, ...) -> a new object with type S, a subtype of T\n",
        "\n"
       ]
      }
     ],
     "prompt_number": 39
    },
    {
     "cell_type": "markdown",
     "metadata": {},
     "source": [
      "###Test Case"
     ]
    },
    {
     "cell_type": "code",
     "collapsed": false,
     "input": [
      "palindromic(1000,10000)"
     ],
     "language": "python",
     "metadata": {},
     "outputs": [
      {
       "output_type": "pyout",
       "prompt_number": 47,
       "text": [
        "99000099"
       ]
      }
     ],
     "prompt_number": 47
    },
    {
     "cell_type": "code",
     "collapsed": false,
     "input": [],
     "language": "python",
     "metadata": {},
     "outputs": []
    }
   ],
   "metadata": {}
  }
 ]
}