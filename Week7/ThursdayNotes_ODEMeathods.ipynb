{
 "metadata": {
  "name": "ThursdayNotes_ODEMeathods"
 },
 "nbformat": 3,
 "nbformat_minor": 0,
 "worksheets": [
  {
   "cells": [
    {
     "cell_type": "markdown",
     "metadata": {},
     "source": [
      "Example 1: Free Fall\n",
      "="
     ]
    },
    {
     "cell_type": "code",
     "collapsed": false,
     "input": [
      "\"\"\"def tfunction(t):\n",
      "    return lambda t: t**2 + 2*t + 4\n",
      "\n",
      "t = arange(0.,5.,0.01)\n",
      "\n",
      "dv = diff(v)\n",
      "dt = diff(t)\n",
      "dvdt = dv/dt\n",
      "dx = diff(x)\n",
      "dxdt = dx/dt\n",
      "\n",
      "a(t) = dv/dt\n",
      "v(t) = dx/dt\n",
      "\n",
      "v(t_1) = v(t_0) + a(t_0)*dt\n",
      "\n",
      "r(t_1) = r(t_0) + v(t_0)*dt\"\"\""
     ],
     "language": "python",
     "metadata": {},
     "outputs": [
      {
       "output_type": "pyout",
       "prompt_number": 16,
       "text": [
        "'def tfunction(t):\\n    return lambda t: t**2 + 2*t + 4\\n\\nt = arange(0.,5.,0.01)\\n\\ndv = diff(v)\\ndt = diff(t)\\ndvdt = dv/dt\\ndx = diff(x)\\ndxdt = dx/dt\\n\\na(t) = dv/dt\\nv(t) = dx/dt\\n\\nv(t_1) = v(t_0) + a(t_0)*dt\\n\\nr(t_1) = r(t_0) + v(t_0)*dt'"
       ]
      }
     ],
     "prompt_number": 16
    },
    {
     "cell_type": "code",
     "collapsed": false,
     "input": [],
     "language": "python",
     "metadata": {},
     "outputs": []
    },
    {
     "cell_type": "markdown",
     "metadata": {},
     "source": [
      "Exercise 1:\n",
      "=\n",
      "Part a)\n",
      "-\n",
      "Use Ueler's method to solve the following first-order differential equation with given initial condition $y(0)$ = 0.\n",
      "\n",
      "#$\\frac{dy}{dx} = x + 2y$\n",
      "\n",
      "Find the value of y when x = 1, that is y(1), using a first step size of 0.25, and then 0.02."
     ]
    },
    {
     "cell_type": "code",
     "collapsed": false,
     "input": [
      "f = lambda x,y: x + 2*y\n",
      "\n"
     ],
     "language": "python",
     "metadata": {},
     "outputs": [],
     "prompt_number": 18
    },
    {
     "cell_type": "code",
     "collapsed": false,
     "input": [],
     "language": "python",
     "metadata": {},
     "outputs": [],
     "prompt_number": 6
    },
    {
     "cell_type": "code",
     "collapsed": false,
     "input": [],
     "language": "python",
     "metadata": {},
     "outputs": []
    }
   ],
   "metadata": {}
  }
 ]
}