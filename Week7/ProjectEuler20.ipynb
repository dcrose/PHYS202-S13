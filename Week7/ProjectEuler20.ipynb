{
 "metadata": {
  "name": "ProjectEuler20"
 },
 "nbformat": 3,
 "nbformat_minor": 0,
 "worksheets": [
  {
   "cells": [
    {
     "cell_type": "markdown",
     "metadata": {},
     "source": [
      "Project Euler 20:\n",
      "=\n",
      "Factor Digit Sum\n",
      "-\n",
      "n! means n*(n  1) * ... * 3 * 2 * 1\n",
      "\n",
      "For example, 10! = 10 * 9 * ... * 3 * 2 * 1 = 3628800,\n",
      "and the sum of the digits in the number 10! is 3 + 6 + 2 + 8 + 8 + 0 + 0 = 27.\n",
      "\n",
      "Find the sum of the digits in the number 100!"
     ]
    },
    {
     "cell_type": "code",
     "collapsed": false,
     "input": [
      "def total_facto(n):\n",
      "    def facto(n): # Let's create the factorial function.\n",
      "        if n == 0:    # So we know how to treat zero\n",
      "            return 1\n",
      "        else:\n",
      "            return n*facto(n-1) # And how to create all else.\n",
      "    def sumintegers(n): # Now to create the function that sums all the numbers.\n",
      "        #for i in str(n):\n",
      "            #integer = int(i)\n",
      "            #return sum(integer)\n",
      "        return sum([int(i) for i in str(n)]) # Turns the input into a string, and sums the values of the integer form of each i in the string. Format works, shortens.\n",
      "    return sumintegers(facto(n))\n",
      "total_facto(100)"
     ],
     "language": "python",
     "metadata": {},
     "outputs": [
      {
       "output_type": "pyout",
       "prompt_number": 20,
       "text": [
        "648"
       ]
      }
     ],
     "prompt_number": 20
    },
    {
     "cell_type": "markdown",
     "metadata": {},
     "source": [
      "Check:"
     ]
    },
    {
     "cell_type": "code",
     "collapsed": false,
     "input": [
      "from math import factorial\n",
      "def facto_with_factorial(n):\n",
      "    \"\"\"Main Program\"\"\"\n",
      "    #n = 100\n",
      "    Sum = 0\n",
      "    result = factorial(n)\n",
      "    string_result = str(result)\n",
      "    for number in string_result:\n",
      "        Sum += int(number)\n",
      "    return Sum \n",
      "facto_with_factorial(100)"
     ],
     "language": "python",
     "metadata": {},
     "outputs": [
      {
       "output_type": "pyout",
       "prompt_number": 26,
       "text": [
        "648"
       ]
      }
     ],
     "prompt_number": 26
    },
    {
     "cell_type": "markdown",
     "metadata": {},
     "source": [
      "Test:"
     ]
    },
    {
     "cell_type": "code",
     "collapsed": false,
     "input": [
      "total_facto(500)"
     ],
     "language": "python",
     "metadata": {},
     "outputs": [
      {
       "output_type": "pyout",
       "prompt_number": 24,
       "text": [
        "4599"
       ]
      }
     ],
     "prompt_number": 24
    },
    {
     "cell_type": "code",
     "collapsed": false,
     "input": [
      "facto_with_factorial(500)"
     ],
     "language": "python",
     "metadata": {},
     "outputs": [
      {
       "output_type": "pyout",
       "prompt_number": 27,
       "text": [
        "4599"
       ]
      }
     ],
     "prompt_number": 27
    },
    {
     "cell_type": "markdown",
     "metadata": {},
     "source": [
      "Also verified on Project Euler."
     ]
    }
   ],
   "metadata": {}
  }
 ]
}