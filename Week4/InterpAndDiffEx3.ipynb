{
 "metadata": {
  "name": "InterpAndDiffEx3"
 },
 "nbformat": 3,
 "nbformat_minor": 0,
 "worksheets": [
  {
   "cells": [
    {
     "cell_type": "markdown",
     "metadata": {},
     "source": [
      "Question 1\n",
      "="
     ]
    },
    {
     "cell_type": "code",
     "collapsed": false,
     "input": [
      "from Electrostatics import *\n",
      "x,y = meshgrid(arange(-5,5,0.5),arange(-5,5,0.5))\n",
      "Vdipole = dipolePotential(x,y,1e-9,2.);\n",
      "contour(x,y,Vdipole,cmap=cm.jet)\n",
      "xlabel(\"x (m)\")\n",
      "ylabel(\"y (m)\")\n",
      "title(\"Dipole Potential\",size=20)\n",
      "show()"
     ],
     "language": "python",
     "metadata": {},
     "outputs": [
      {
       "output_type": "display_data",
       "png": "[encoded data removed]"
      }
     ],
     "prompt_number": 4
    },
    {
     "cell_type": "markdown",
     "metadata": {},
     "source": [
      "Part a)\n",
      "-"
     ]
    },
    {
     "cell_type": "code",
     "collapsed": false,
     "input": [
      "mask = (x==0)"
     ],
     "language": "python",
     "metadata": {},
     "outputs": [],
     "prompt_number": 5
    },
    {
     "cell_type": "markdown",
     "metadata": {},
     "source": [
      "Part b)\n",
      "-"
     ]
    },
    {
     "cell_type": "code",
     "collapsed": false,
     "input": [
      "print Vdipole[mask]"
     ],
     "language": "python",
     "metadata": {},
     "outputs": [
      {
       "output_type": "stream",
       "stream": "stdout",
       "text": [
        "[ 0.  0.  0.  0.  0.  0.  0.  0.  0.  0.  0.  0.  0.  0.  0.  0.  0.  0.\n",
        "  0.  0.]\n"
       ]
      }
     ],
     "prompt_number": 6
    },
    {
     "cell_type": "markdown",
     "metadata": {},
     "source": [
      "Question 2\n",
      "=\n",
      "Part a)\n",
      "-"
     ]
    },
    {
     "cell_type": "code",
     "collapsed": false,
     "input": [
      "from scipy.interpolate import interp1d"
     ],
     "language": "python",
     "metadata": {},
     "outputs": [],
     "prompt_number": 50
    },
    {
     "cell_type": "code",
     "collapsed": false,
     "input": [
      "thermistor_data = loadtxt(\"/Users/dakotacrose/Documents/PHYS202-S13/Week4/Thermistors.txt\",float)\n",
      "x = thermistor_data[:,0] # Degrees Celcius\n",
      "y = thermistor_data[:,1] # x10^6 Ohms"
     ],
     "language": "python",
     "metadata": {},
     "outputs": [],
     "prompt_number": 68
    },
    {
     "cell_type": "code",
     "collapsed": false,
     "input": [
      "Temp_Interp = 0\n",
      "def Temp(Resistance):\n",
      "    x = thermistor_data[:,0] # Degrees Celcius\n",
      "    y = thermistor_data[:,1] # x10^6 Ohms\n",
      "    Temp_Interp = interp1d(y,x)\n",
      "    i= y.index(Resistance)\n",
      "    print type(i)\n",
      "    return T[i]\n",
      "    \n"
     ],
     "language": "python",
     "metadata": {},
     "outputs": [],
     "prompt_number": 85
    },
    {
     "cell_type": "code",
     "collapsed": false,
     "input": [
      "print Temp(2.000)"
     ],
     "language": "python",
     "metadata": {},
     "outputs": [
      {
       "ename": "AttributeError",
       "evalue": "'numpy.ndarray' object has no attribute 'index'",
       "output_type": "pyerr",
       "traceback": [
        "\u001b[0;31m---------------------------------------------------------------------------\u001b[0m\n\u001b[0;31mAttributeError\u001b[0m                            Traceback (most recent call last)",
        "\u001b[0;32m<ipython-input-86-d2d1f06ff6d3>\u001b[0m in \u001b[0;36m<module>\u001b[0;34m()\u001b[0m\n\u001b[0;32m----> 1\u001b[0;31m \u001b[0;32mprint\u001b[0m \u001b[0mTemp\u001b[0m\u001b[0;34m(\u001b[0m\u001b[0;36m2.000\u001b[0m\u001b[0;34m)\u001b[0m\u001b[0;34m\u001b[0m\u001b[0m\n\u001b[0m",
        "\u001b[0;32m<ipython-input-85-b340535e0baa>\u001b[0m in \u001b[0;36mTemp\u001b[0;34m(Resistance)\u001b[0m\n\u001b[1;32m      4\u001b[0m     \u001b[0my\u001b[0m \u001b[0;34m=\u001b[0m \u001b[0mthermistor_data\u001b[0m\u001b[0;34m[\u001b[0m\u001b[0;34m:\u001b[0m\u001b[0;34m,\u001b[0m\u001b[0;36m1\u001b[0m\u001b[0;34m]\u001b[0m \u001b[0;31m# x10^6 Ohms\u001b[0m\u001b[0;34m\u001b[0m\u001b[0m\n\u001b[1;32m      5\u001b[0m     \u001b[0mTemp_Interp\u001b[0m \u001b[0;34m=\u001b[0m \u001b[0minterp1d\u001b[0m\u001b[0;34m(\u001b[0m\u001b[0my\u001b[0m\u001b[0;34m,\u001b[0m\u001b[0mx\u001b[0m\u001b[0;34m)\u001b[0m\u001b[0;34m\u001b[0m\u001b[0m\n\u001b[0;32m----> 6\u001b[0;31m     \u001b[0mi\u001b[0m\u001b[0;34m=\u001b[0m \u001b[0my\u001b[0m\u001b[0;34m.\u001b[0m\u001b[0mindex\u001b[0m\u001b[0;34m(\u001b[0m\u001b[0mResistance\u001b[0m\u001b[0;34m)\u001b[0m\u001b[0;34m\u001b[0m\u001b[0m\n\u001b[0m\u001b[1;32m      7\u001b[0m     \u001b[0;32mprint\u001b[0m \u001b[0mtype\u001b[0m\u001b[0;34m(\u001b[0m\u001b[0mi\u001b[0m\u001b[0;34m)\u001b[0m\u001b[0;34m\u001b[0m\u001b[0m\n\u001b[1;32m      8\u001b[0m     \u001b[0;32mreturn\u001b[0m \u001b[0mT\u001b[0m\u001b[0;34m[\u001b[0m\u001b[0mi\u001b[0m\u001b[0;34m]\u001b[0m\u001b[0;34m\u001b[0m\u001b[0m\n",
        "\u001b[0;31mAttributeError\u001b[0m: 'numpy.ndarray' object has no attribute 'index'"
       ]
      }
     ],
     "prompt_number": 86
    },
    {
     "cell_type": "markdown",
     "metadata": {},
     "source": [
      "Cannot get this to work."
     ]
    },
    {
     "cell_type": "code",
     "collapsed": false,
     "input": [
      "plot(x,y)"
     ],
     "language": "python",
     "metadata": {},
     "outputs": [
      {
       "output_type": "pyout",
       "prompt_number": 89,
       "text": [
        "[<matplotlib.lines.Line2D at 0x10c7e6510>]"
       ]
      },
      {
       "output_type": "display_data",
       "png": "[encoded data removed]"
      }
     ],
     "prompt_number": 89
    },
    {
     "cell_type": "code",
     "collapsed": false,
     "input": [
      "help(interp1d)"
     ],
     "language": "python",
     "metadata": {},
     "outputs": [
      {
       "output_type": "stream",
       "stream": "stdout",
       "text": [
        "Help on class interp1d in module scipy.interpolate.interpolate:\n",
        "\n",
        "class interp1d(__builtin__.object)\n",
        " |  interp1d(x, y, kind='linear', axis=-1, copy=True, bounds_error=True,\n",
        " |           fill_value=np.nan)\n",
        " |  \n",
        " |  Interpolate a 1-D function.\n",
        " |  \n",
        " |  `x` and `y` are arrays of values used to approximate some function f:\n",
        " |  ``y = f(x)``.  This class returns a function whose call method uses\n",
        " |  interpolation to find the value of new points.\n",
        " |  \n",
        " |  Parameters\n",
        " |  ----------\n",
        " |  x : array_like\n",
        " |      A 1-D array of monotonically increasing real values.\n",
        " |  y : array_like\n",
        " |      A N-D array of real values. The length of `y` along the interpolation\n",
        " |      axis must be equal to the length of `x`.\n",
        " |  kind : str or int, optional\n",
        " |      Specifies the kind of interpolation as a string\n",
        " |      ('linear','nearest', 'zero', 'slinear', 'quadratic, 'cubic')\n",
        " |      or as an integer specifying the order of the spline interpolator\n",
        " |      to use. Default is 'linear'.\n",
        " |  axis : int, optional\n",
        " |      Specifies the axis of `y` along which to interpolate.\n",
        " |      Interpolation defaults to the last axis of `y`.\n",
        " |  copy : bool, optional\n",
        " |      If True, the class makes internal copies of x and y.\n",
        " |      If False, references to `x` and `y` are used. The default is to copy.\n",
        " |  bounds_error : bool, optional\n",
        " |      If True, an error is thrown any time interpolation is attempted on\n",
        " |      a value outside of the range of x (where extrapolation is\n",
        " |      necessary). If False, out of bounds values are assigned `fill_value`.\n",
        " |      By default, an error is raised.\n",
        " |  fill_value : float, optional\n",
        " |      If provided, then this value will be used to fill in for requested\n",
        " |      points outside of the data range. If not provided, then the default\n",
        " |      is NaN.\n",
        " |  \n",
        " |  See Also\n",
        " |  --------\n",
        " |  UnivariateSpline : A more recent wrapper of the FITPACK routines.\n",
        " |  splrep, splev\n",
        " |      Spline interpolation based on FITPACK.\n",
        " |  interp2d\n",
        " |  \n",
        " |  Examples\n",
        " |  --------\n",
        " |  >>> import scipy.interpolate\n",
        " |  >>> x = np.arange(0, 10)\n",
        " |  >>> y = np.exp(-x/3.0)\n",
        " |  >>> f = sp.interpolate.interp1d(x, y)\n",
        " |  \n",
        " |  >>> xnew = np.arange(0,9, 0.1)\n",
        " |  >>> ynew = f(xnew)   # use interpolation function returned by `interp1d`\n",
        " |  >>> plt.plot(x, y, 'o', xnew, ynew, '-')\n",
        " |  \n",
        " |  Methods defined here:\n",
        " |  \n",
        " |  __call__(self, x_new)\n",
        " |      Find interpolated y_new = f(x_new).\n",
        " |      \n",
        " |      Parameters\n",
        " |      ----------\n",
        " |      x_new : number or array\n",
        " |          New independent variable(s).\n",
        " |      \n",
        " |      Returns\n",
        " |      -------\n",
        " |      y_new : ndarray\n",
        " |          Interpolated value(s) corresponding to x_new.\n",
        " |  \n",
        " |  __init__(self, x, y, kind='linear', axis=-1, copy=True, bounds_error=True, fill_value=nan)\n",
        " |      Initialize a 1D linear interpolation class.\n",
        " |  \n",
        " |  ----------------------------------------------------------------------\n",
        " |  Data descriptors defined here:\n",
        " |  \n",
        " |  __dict__\n",
        " |      dictionary for instance variables (if defined)\n",
        " |  \n",
        " |  __weakref__\n",
        " |      list of weak references to the object (if defined)\n",
        "\n"
       ]
      }
     ],
     "prompt_number": 22
    },
    {
     "cell_type": "markdown",
     "metadata": {},
     "source": [
      "Question 3\n",
      "=\n",
      "Part a)\n",
      "-"
     ]
    },
    {
     "cell_type": "code",
     "collapsed": false,
     "input": [
      "def finiteDifference(x,y):\n",
      "    \"\"\"This will take two arguments, x and y(x), and returns the derivative of y with respect to x\"\"\"\n",
      "    dy = diff(y)\n",
      "    dx = diff(x)\n",
      "    dydx = dy/dx\n",
      "    dydx1 = zeros(y.shape,float)\n",
      "    dydx1[1:-1] = (y[2:] - y[:-2])/(x[2:] - x[:-2]) #center difference\n",
      "    dydx1[0] = (y[1] - y[0])/(x[1] - x[0]) #forward difference\n",
      "    dydx1[-1] = (y[-1] - y[-2])/(x[-1] - x[-2]) #backward difference\n",
      "    return dydx1\n"
     ],
     "language": "python",
     "metadata": {},
     "outputs": [],
     "prompt_number": 10
    },
    {
     "cell_type": "markdown",
     "metadata": {},
     "source": [
      "Part b)\n",
      "-"
     ]
    },
    {
     "cell_type": "code",
     "collapsed": false,
     "input": [
      "x = arange(0.,10.,0.1)\n",
      "y = x**5\n",
      "plot(x,finiteDifference(x,y),label=\"center difference\")\n",
      "show()"
     ],
     "language": "python",
     "metadata": {},
     "outputs": [
      {
       "output_type": "display_data",
       "png": "[encoded data removed]"
      }
     ],
     "prompt_number": 11
    },
    {
     "cell_type": "markdown",
     "metadata": {},
     "source": [
      "Part c)\n",
      "-"
     ]
    },
    {
     "cell_type": "code",
     "collapsed": false,
     "input": [
      "x = arange(0.,10.,0.001)\n",
      "y = x**5\n",
      "Exactdydx = 5*x**4\n",
      "plot(x,finiteDifference(x,y),label=\"center difference\")\n",
      "plot(x,Exactdydx,label=\"exact derivative\")\n",
      "xlabel(\"x\")\n",
      "ylabel(\"y\")\n",
      "title(\"dy/dx of $x^5$\")\n",
      "legend(loc=\"upper left\")\n",
      "show() # ACCURATE AS... stuff. And things."
     ],
     "language": "python",
     "metadata": {},
     "outputs": [
      {
       "output_type": "display_data",
       "png": "[encoded data removed]"
      }
     ],
     "prompt_number": 12
    },
    {
     "cell_type": "code",
     "collapsed": false,
     "input": [
      "plot(x,(Exactdydx-finiteDifference(x,y)),label=\"Difference\")\n",
      "title(\"Difference between y and the derivative of y\")\n",
      "xlabel(\"x\")\n",
      "ylabel(\"y\")\n",
      "legend(loc=\"upper left\")\n",
      "show()\n",
      "\"\"\"That's pretty accurate.\"\"\""
     ],
     "language": "python",
     "metadata": {},
     "outputs": [
      {
       "output_type": "display_data",
       "png": "[encoded data removed]"
      },
      {
       "output_type": "pyout",
       "prompt_number": 13,
       "text": [
        "\"That's pretty accurate.\""
       ]
      }
     ],
     "prompt_number": 13
    },
    {
     "cell_type": "code",
     "collapsed": false,
     "input": [],
     "language": "python",
     "metadata": {},
     "outputs": [],
     "prompt_number": 13
    },
    {
     "cell_type": "markdown",
     "metadata": {},
     "source": [
      "Part d)\n",
      "-"
     ]
    },
    {
     "cell_type": "code",
     "collapsed": false,
     "input": [
      "x = arange(0.,10.,0.001)\n",
      "y = x**5\n",
      "Exactdydx = 5*x**4\n",
      "print (Exactdydx - finiteDifference(x,y))"
     ],
     "language": "python",
     "metadata": {},
     "outputs": [
      {
       "output_type": "stream",
       "stream": "stdout",
       "text": [
        "[ -1.00000000e-12  -1.10000000e-11  -4.10000000e-11 ...,  -9.99400036e-04\n",
        "  -9.99600437e-04   9.99600055e+00]\n"
       ]
      }
     ],
     "prompt_number": 14
    },
    {
     "cell_type": "code",
     "collapsed": false,
     "input": [],
     "language": "python",
     "metadata": {},
     "outputs": [],
     "prompt_number": 14
    },
    {
     "cell_type": "markdown",
     "metadata": {},
     "source": [
      "Problem 4\n",
      "=\n",
      "Part a)\n",
      "-"
     ]
    },
    {
     "cell_type": "code",
     "collapsed": false,
     "input": [
      "x = linspace(0.,2*pi,100.)\n",
      "y = sin(x) + 0.1*random.random(size=x.shape)\n",
      "plot(x,y)\n",
      "show()"
     ],
     "language": "python",
     "metadata": {},
     "outputs": [
      {
       "output_type": "display_data",
       "png": "[encoded data removed]"
      }
     ],
     "prompt_number": 15
    },
    {
     "cell_type": "code",
     "collapsed": false,
     "input": [
      "def fourPtFiniteDiff(x,y):\n",
      "    "
     ],
     "language": "python",
     "metadata": {},
     "outputs": [
      {
       "ename": "IndentationError",
       "evalue": "expected an indented block (<ipython-input-16-07d4464b8357>, line 2)",
       "output_type": "pyerr",
       "traceback": [
        "\u001b[0;31mIndentationError\u001b[0m\u001b[0;31m:\u001b[0m expected an indented block\n"
       ]
      }
     ],
     "prompt_number": 16
    },
    {
     "cell_type": "code",
     "collapsed": false,
     "input": [],
     "language": "python",
     "metadata": {},
     "outputs": [],
     "prompt_number": 16
    }
   ],
   "metadata": {}
  }
 ]
}