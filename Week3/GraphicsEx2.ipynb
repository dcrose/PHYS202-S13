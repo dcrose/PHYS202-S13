{
 "metadata": {
  "name": "GraphicsEx2"
 },
 "nbformat": 3,
 "nbformat_minor": 0,
 "worksheets": [
  {
   "cells": [
    {
     "cell_type": "markdown",
     "metadata": {},
     "source": [
      "Problem 1:\n",
      "=\n",
      "Part A\n",
      "-"
     ]
    },
    {
     "cell_type": "markdown",
     "metadata": {},
     "source": [
      "#$\\psi_k(x) = A \\left(\\frac{ik - a\\tanh(ax)}{ik + a}\\right)e^{+ikx}$"
     ]
    },
    {
     "cell_type": "markdown",
     "metadata": {},
     "source": [
      "Part B\n",
      "-"
     ]
    },
    {
     "cell_type": "markdown",
     "metadata": {},
     "source": [
      "#$v_1 = m_2\\sqrt{\\frac{2G}{M}\\left(\\frac{1}{r}-\\frac{1}{r_0}\\right)}$"
     ]
    },
    {
     "cell_type": "markdown",
     "metadata": {},
     "source": [
      "Part C\n",
      "-"
     ]
    },
    {
     "cell_type": "markdown",
     "metadata": {},
     "source": [
      "#$f(\\theta) = \\frac{\\hbar}{p}\\displaystyle\\sum^\\infty_{l=0}(2l + 1)e^{i\\delta_l}\\sin\\delta_l P_l (\\cos\\theta) $"
     ]
    },
    {
     "cell_type": "markdown",
     "metadata": {},
     "source": [
      "Part D\n",
      "-"
     ]
    },
    {
     "cell_type": "markdown",
     "metadata": {},
     "source": [
      "#$\\frac{d\\sigma}{d\\Omega} = \\frac{k\\pi^2(\\pi - \\theta)}{mu^2_0\\theta^2(2\\pi - \\theta)^2sin\\theta}$"
     ]
    },
    {
     "cell_type": "markdown",
     "metadata": {},
     "source": [
      "Part E\n",
      "-"
     ]
    },
    {
     "cell_type": "markdown",
     "metadata": {},
     "source": [
      "#$\\langle{f}\\rangle = \\frac{1}{\\tau}{\\int_{0}^{\\tau} f(t)dt}$"
     ]
    },
    {
     "cell_type": "markdown",
     "metadata": {},
     "source": [
      "Part F\n",
      "-"
     ]
    },
    {
     "cell_type": "markdown",
     "metadata": {},
     "source": [
      "#$\\Omega_S = \\omega\\frac{\\sin\\alpha}{\\sin\\theta\\} = \\frac{L}{\\lambda_1} = \\omega\\frac{\\sqrt{\\lambda^2_3 + (\\lambda^2_1 - \\lambda^2_2)\\sin\\alpha}}{\\lambda_1} $"
     ]
    },
    {
     "cell_type": "markdown",
     "metadata": {},
     "source": [
      "Number 2\n",
      "="
     ]
    },
    {
     "cell_type": "code",
     "collapsed": false,
     "input": [
      "i = 1\n",
      "x = arange(-pi,pi,pi/2)\n",
      "a = 1\n",
      "U = -sec^2(ax)"
     ],
     "language": "python",
     "metadata": {},
     "outputs": [
      {
       "ename": "NameError",
       "evalue": "name 'sec' is not defined",
       "output_type": "pyerr",
       "traceback": [
        "\u001b[0;31m---------------------------------------------------------------------------\u001b[0m\n\u001b[0;31mNameError\u001b[0m                                 Traceback (most recent call last)",
        "\u001b[0;32m<ipython-input-12-f8078e6df1a1>\u001b[0m in \u001b[0;36m<module>\u001b[0;34m()\u001b[0m\n\u001b[1;32m      2\u001b[0m \u001b[0mx\u001b[0m \u001b[0;34m=\u001b[0m \u001b[0marange\u001b[0m\u001b[0;34m(\u001b[0m\u001b[0;34m-\u001b[0m\u001b[0mpi\u001b[0m\u001b[0;34m,\u001b[0m\u001b[0mpi\u001b[0m\u001b[0;34m,\u001b[0m\u001b[0mpi\u001b[0m\u001b[0;34m/\u001b[0m\u001b[0;36m2\u001b[0m\u001b[0;34m)\u001b[0m\u001b[0;34m\u001b[0m\u001b[0m\n\u001b[1;32m      3\u001b[0m \u001b[0ma\u001b[0m \u001b[0;34m=\u001b[0m \u001b[0;36m1\u001b[0m\u001b[0;34m\u001b[0m\u001b[0m\n\u001b[0;32m----> 4\u001b[0;31m \u001b[0mU\u001b[0m \u001b[0;34m=\u001b[0m \u001b[0;34m-\u001b[0m\u001b[0msec\u001b[0m\u001b[0;34m^\u001b[0m\u001b[0;36m2\u001b[0m\u001b[0;34m(\u001b[0m\u001b[0max\u001b[0m\u001b[0;34m)\u001b[0m\u001b[0;34m\u001b[0m\u001b[0m\n\u001b[0m",
        "\u001b[0;31mNameError\u001b[0m: name 'sec' is not defined"
       ]
      }
     ],
     "prompt_number": 12
    },
    {
     "cell_type": "code",
     "collapsed": false,
     "input": [],
     "language": "python",
     "metadata": {},
     "outputs": []
    }
   ],
   "metadata": {}
  }
 ]
}