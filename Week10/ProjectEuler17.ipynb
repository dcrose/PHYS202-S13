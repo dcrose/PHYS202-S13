{
 "metadata": {
  "name": "ProjectEuler17"
 },
 "nbformat": 3,
 "nbformat_minor": 0,
 "worksheets": [
  {
   "cells": [
    {
     "cell_type": "markdown",
     "metadata": {},
     "source": [
      "Project Euler 17:\n",
      "=\n",
      "If the numbers 1 to 5 are written out in words: one, two, three, four, five, then there are 3 + 3 + 5 + 4 + 4 = 19 letters used in total.\n",
      "\n",
      "If all the numbers from 1 to 1000 (one thousand) inclusive were written out in words, how many letters would be used?\n",
      "\n",
      "\n",
      "NOTE: Do not count spaces or hyphens. For example, 342 (three hundred and forty-two) contains 23 letters and 115 (one hundred and fifteen) contains 20 letters. The use of \"and\" when writing out numbers is in compliance with British usage."
     ]
    },
    {
     "cell_type": "code",
     "collapsed": false,
     "input": [
      "firsts = [\"zero\",\"one\",\"two\",\"three\",\"four\",\"five\",\"six\",\"seven\",\"eight\",\"nine\",\"ten\",\n",
      "    \"eleven\",\"twelve\",\"thirteen\",\"fourteen\",\"fifteen\",\"sixteen\",\"seventeen\",\"eighteen\",\n",
      "    \"nineteen\",\"twenty\"]\n",
      "tens = [\"zero\",\"ten\",\"twenty\",\"thirty\",\"forty\",\"fifty\",\"sixty\",\"seventy\",\"eighty\",\n",
      "    \"ninety\"]"
     ],
     "language": "python",
     "metadata": {},
     "outputs": [],
     "prompt_number": 3
    },
    {
     "cell_type": "code",
     "collapsed": false,
     "input": [
      "# First we create a function that does our stuff.\n",
      "def function(n):\n",
      "    if n%1000 == 0:\n",
      "        t = \"onethousand\"\n",
      "    elif n%100 == 0:\n",
      "        q = n/100\n",
      "        t = firsts[q] + \"hundred\"\n",
      "    elif n%100 != 0:\n",
      "        if n/100. > 1:\n",
      "            q = n/100\n",
      "            if n%100 < 10:\n",
      "                w = \"and\" + firsts[n%100]\n",
      "                t = firsts[q] + \"hundred\"+w\n",
      "            elif n%100<21 and n%100>9:\n",
      "                w = \"and\" + firsts[n%100] \n",
      "                t = firsts[q] + \"hundred\"+w\n",
      "            elif n%100>20 and n%10 == 0:\n",
      "                w = \"and\" + tens[n%100/10]\n",
      "                t = firsts[q] + \"hundred\"+w\n",
      "            else:\n",
      "                w = \"and\" + tens[n%100/10] + firsts[n%100%10]\n",
      "                t = firsts[q] + \"hundred\"+w\n",
      "        elif n/100.<1:\n",
      "            if n>20 and n%10 != 0:\n",
      "                t = tens[n/10] + firsts[n%10]\n",
      "            elif n>20 and n%10 == 0:\n",
      "                t = tens[n/10]\n",
      "            else:\n",
      "                t = firsts[n]\n",
      "    return len(t)"
     ],
     "language": "python",
     "metadata": {},
     "outputs": [],
     "prompt_number": 12
    },
    {
     "cell_type": "code",
     "collapsed": false,
     "input": [
      "# Test Case\n",
      "start = 0\n",
      "for i in range(1,6):\n",
      "    start += function(i)\n",
      "print \"The number of letters for the numbers 1-5 in words is: \" + str(start)"
     ],
     "language": "python",
     "metadata": {},
     "outputs": [
      {
       "output_type": "stream",
       "stream": "stdout",
       "text": [
        "The number of letters for the numbers 1-5 in words is: 19\n"
       ]
      }
     ],
     "prompt_number": 13
    },
    {
     "cell_type": "code",
     "collapsed": false,
     "input": [
      "# Now for the real deal!\n",
      "start = 0\n",
      "for i in range(1,1001):\n",
      "    start += function(i)\n",
      "print start"
     ],
     "language": "python",
     "metadata": {},
     "outputs": [
      {
       "output_type": "stream",
       "stream": "stdout",
       "text": [
        "21124\n"
       ]
      }
     ],
     "prompt_number": 14
    },
    {
     "cell_type": "markdown",
     "metadata": {},
     "source": [
      "###Correct according to Project Euler."
     ]
    },
    {
     "cell_type": "code",
     "collapsed": false,
     "input": [],
     "language": "python",
     "metadata": {},
     "outputs": []
    }
   ],
   "metadata": {}
  }
 ]
}