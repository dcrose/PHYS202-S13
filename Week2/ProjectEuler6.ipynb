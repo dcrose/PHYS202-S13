{
 "metadata": {
  "name": "ProjectEuler6"
 }, 
 "nbformat": 2, 
 "worksheets": [
  {
   "cells": [
    {
     "cell_type": "markdown", 
     "source": [
      "Sum Square Difference", 
      "=====================", 
      "Problem 6", 
      "---------", 
      "The sum of the squares of the first ten natural numbers is,", 
      "", 
      "1$^2$ + 2$^2$ + ... + 10$^2$ = 385", 
      "The square of the sum of the first ten natural numbers is,", 
      "", 
      "(1 + 2 + ... + 10)$^2$ = 55$^2$ = 3025", 
      "Hence the difference between the sum of the squares of the first ten natural numbers and the square of the sum is 3025 - 385 = 2640.", 
      "", 
      "Find the difference between the sum of the squares of the first one hundred natural numbers and the square of the sum."
     ]
    }, 
    {
     "cell_type": "code", 
     "collapsed": false, 
     "input": [
      "def sum_square(x):", 
      "    total = 0", 
      "    for i in range(x+1):", 
      "        total += i ** 2", 
      "    return total", 
      "print sum_square(100)"
     ], 
     "language": "python", 
     "outputs": [
      {
       "output_type": "stream", 
       "stream": "stdout", 
       "text": [
        "338350"
       ]
      }
     ], 
     "prompt_number": 5
    }, 
    {
     "cell_type": "code", 
     "collapsed": false, 
     "input": [
      "def square_of_sum(y):", 
      "    total = 0", 
      "    for i in range (y+1):", 
      "        total += i", 
      "    return total ** 2", 
      "print square_of_sum(100)"
     ], 
     "language": "python", 
     "outputs": [
      {
       "output_type": "stream", 
       "stream": "stdout", 
       "text": [
        "25502500"
       ]
      }
     ], 
     "prompt_number": 6
    }, 
    {
     "cell_type": "code", 
     "collapsed": false, 
     "input": [
      "print square_of_sum(100) - sum_square(100)"
     ], 
     "language": "python", 
     "outputs": [
      {
       "output_type": "stream", 
       "stream": "stdout", 
       "text": [
        "25164150"
       ]
      }
     ], 
     "prompt_number": 9
    }, 
    {
     "cell_type": "markdown", 
     "source": [
      "The answer is:", 
      "==============", 
      "251,641,150", 
      "-----------"
     ]
    }, 
    {
     "cell_type": "code", 
     "collapsed": true, 
     "input": [], 
     "language": "python", 
     "outputs": []
    }
   ]
  }
 ]
}